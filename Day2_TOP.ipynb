{
  "nbformat": 4,
  "nbformat_minor": 0,
  "metadata": {
    "colab": {
      "name": "Day2_TOP.ipynb",
      "provenance": [],
      "collapsed_sections": [],
      "toc_visible": true,
      "authorship_tag": "ABX9TyOL5TWVJ45VNvA6k2+/OgO/",
      "include_colab_link": true
    },
    "kernelspec": {
      "name": "python3",
      "display_name": "Python 3"
    },
    "language_info": {
      "name": "python"
    }
  },
  "cells": [
    {
      "cell_type": "markdown",
      "metadata": {
        "id": "view-in-github",
        "colab_type": "text"
      },
      "source": [
        "<a href=\"https://colab.research.google.com/github/sungchol3/WFKICT_Volunteer/blob/main/Day2_TOP.ipynb\" target=\"_parent\"><img src=\"https://colab.research.google.com/assets/colab-badge.svg\" alt=\"Open In Colab\"/></a>"
      ]
    },
    {
      "cell_type": "markdown",
      "metadata": {
        "id": "NqGmhBiORr0m"
      },
      "source": [
        "# String Type\n",
        "\n",
        "\n",
        "\n"
      ]
    },
    {
      "cell_type": "markdown",
      "metadata": {
        "id": "yr6p3q7dvhhi"
      },
      "source": [
        "\n",
        "## Waht is String Type\n",
        "\n",
        "String type is the set of letters, numbers, and other symbols. <br>\n",
        "String consist of quotation marks (`\"\"` or `''`).\n",
        "\n",
        "```\n",
        "\"I'm 20 years old\"\n",
        "'abcd'\n",
        "\"123\"\n",
        "'a'\n",
        "```\n",
        "All of these examples are string. (Even though, 123 is number, but it is wrapped around by \"\". So it is string.) <br>\n",
        "\n",
        "Of course, you can save string in variables.\n",
        "See the example code."
      ]
    },
    {
      "cell_type": "code",
      "metadata": {
        "colab": {
          "base_uri": "https://localhost:8080/"
        },
        "id": "FFeFmdOgAK1H",
        "outputId": "0fb3eb3d-3f52-424d-c2e0-7d9cb3b522b6"
      },
      "source": [
        "string1 = \"My name is Sungcheol Ha.\"\n",
        "string2 = \"My age is 21.\"\n",
        "\n",
        "print(string1)\n",
        "print(string2)"
      ],
      "execution_count": null,
      "outputs": [
        {
          "output_type": "stream",
          "text": [
            "My name is Sungcheol Ha.\n",
            "My age is 21.\n"
          ],
          "name": "stdout"
        }
      ]
    },
    {
      "cell_type": "markdown",
      "metadata": {
        "id": "AsM7gsJKb41Q"
      },
      "source": [
        "If you want to make long string, then you can use `\"\"\"#blank\"\"\"` or `'''#blank'''`. (three quotation mark)"
      ]
    },
    {
      "cell_type": "code",
      "metadata": {
        "colab": {
          "base_uri": "https://localhost:8080/"
        },
        "id": "8l0MmgOpcTK-",
        "outputId": "87b7a4f8-1e8d-437b-a73b-679490061887"
      },
      "source": [
        "long_string = \"\"\"This is very long string.\n",
        "You can write any sentence here.\n",
        "Also you can change the line.\n",
        "\"\"\"\n",
        "\n",
        "print(long_string)"
      ],
      "execution_count": null,
      "outputs": [
        {
          "output_type": "stream",
          "text": [
            "This is very long string.\n",
            "You can write any sentence here.\n",
            "Also you can change the line.\n",
            "\n"
          ],
          "name": "stdout"
        }
      ]
    },
    {
      "cell_type": "markdown",
      "metadata": {
        "id": "-Xp7SINVck_o"
      },
      "source": [
        "If you want to contain single quotation mark(`'`) in your string, then you should use double quotation mark(`\"\"`) as string. <br>\n",
        "In opposite case is same."
      ]
    },
    {
      "cell_type": "code",
      "metadata": {
        "colab": {
          "base_uri": "https://localhost:8080/"
        },
        "id": "ElBN1Fuvc_8O",
        "outputId": "e73595de-89da-4b3e-dffc-5bf468027500"
      },
      "source": [
        "print(\"I'm sungcheol Ha. My favorite programming language is Python.\")\n",
        "#print('You can't use single quotation mark in string consisted by ''.')\n",
        "print('I want to contain double quotation mark \" in my sentence.')\n",
        "#print(\"But you use double quotation mark \" in a same time, it causes error.\")"
      ],
      "execution_count": null,
      "outputs": [
        {
          "output_type": "stream",
          "text": [
            "I'm sungcheol Ha. My favorite programming language is Python.\n",
            "I want to contain double quotation mark \" in my sentence.\n"
          ],
          "name": "stdout"
        }
      ]
    },
    {
      "cell_type": "markdown",
      "metadata": {
        "id": "cbivSF4tryN2"
      },
      "source": [
        "If you want to use both double and single quotation mark in your string, you can use backslash(`\\`) in your string."
      ]
    },
    {
      "cell_type": "code",
      "metadata": {
        "colab": {
          "base_uri": "https://localhost:8080/"
        },
        "id": "3Dzg6hyosHCi",
        "outputId": "3b16caaf-bea6-4e6d-d084-629403eb8197"
      },
      "source": [
        "print(\"Double quotation mark is \\\"\")\n",
        "print('Single quotation mark is \\'')"
      ],
      "execution_count": null,
      "outputs": [
        {
          "output_type": "stream",
          "text": [
            "Double quotation mark is \"\n",
            "Single quotation mark is '\n",
            "\u0007\n"
          ],
          "name": "stdout"
        }
      ]
    },
    {
      "cell_type": "markdown",
      "metadata": {
        "id": "Tr-qjqJAsgKF"
      },
      "source": [
        "## MultiLine\n",
        "\n",
        "How to print two or more lines with one line code? <br>\n",
        "You can insert `\\n` where you change the line."
      ]
    },
    {
      "cell_type": "code",
      "metadata": {
        "colab": {
          "base_uri": "https://localhost:8080/"
        },
        "id": "LzYfR1cVtVdl",
        "outputId": "9b01f4e1-ef4d-45c9-ca24-008a3d061f62"
      },
      "source": [
        "#Print multiline with multi code\n",
        "print(\"This is first line.\")\n",
        "print(\"This is second line.\")\n",
        "\n",
        "#Print multiline with one code.\n",
        "print(\"This is first line.\\nThis is second line.\")"
      ],
      "execution_count": null,
      "outputs": [
        {
          "output_type": "stream",
          "text": [
            "This is first line.\n",
            "This is second line.\n",
            "This is first line.\n",
            "This is second line.\n"
          ],
          "name": "stdout"
        }
      ]
    },
    {
      "cell_type": "markdown",
      "metadata": {
        "id": "bTpLMSlotsqO"
      },
      "source": [
        "Like `\\n`, some special code which do special word called \"Escape Code.\" <br>\n",
        "There are many escape codes. Here are some famous escape codes.\n",
        "<table>\n",
        "<tr><td>Code</td><td>Word</td></tr>\n",
        "<tr><td>\\n</td><td>Change the line</td></tr>\n",
        "<tr><td>\\t</td><td>Insert tab</td></tr>\n",
        "<tr><td>\\\\</td><td>Insert literal %</td></tr>\n",
        "<tr><td>\\`</td><td>Insert ' single quotation mark</td></tr>\n",
        "<tr><td>\\\"</td><td>Insert \" double quotation mark</td></tr>\n",
        "</table>"
      ]
    },
    {
      "cell_type": "markdown",
      "metadata": {
        "id": "FTet1BZHvrP-"
      },
      "source": [
        ""
      ]
    },
    {
      "cell_type": "code",
      "metadata": {
        "colab": {
          "base_uri": "https://localhost:8080/"
        },
        "id": "d1AxCBMzvNJM",
        "outputId": "6a18ad52-8c92-4090-b757-e047806fdb36"
      },
      "source": [
        "print(\"This is first line.\\tThis is second line.\")\n",
        "print(\"This is backslash \\\\\")"
      ],
      "execution_count": null,
      "outputs": [
        {
          "output_type": "stream",
          "text": [
            "This is first line.\tThis is second line.\n",
            "This is backslash \\\n"
          ],
          "name": "stdout"
        }
      ]
    },
    {
      "cell_type": "markdown",
      "metadata": {
        "id": "XxQQwStxvtZY"
      },
      "source": [
        "## String Operation\n",
        "\n",
        "You can use plus(`+`) and multiplication(`*`) operation in string type."
      ]
    },
    {
      "cell_type": "markdown",
      "metadata": {
        "id": "skXqPMzERft_"
      },
      "source": [
        "### String Plus\n",
        "What is the result of add two strings?\n",
        "When you add two strigns, the results is the concatenation of two strings.<br>\n",
        "Let's follow the examples."
      ]
    },
    {
      "cell_type": "code",
      "metadata": {
        "colab": {
          "base_uri": "https://localhost:8080/"
        },
        "id": "DW-_6rfmQPmk",
        "outputId": "37b27f0b-2089-4b5e-cd6a-34be2f4fe546"
      },
      "source": [
        "string1 = \"I'm apple\"\n",
        "string2 = \"I'm banana\"\n",
        "string3 = string1 + string2\n",
        "print(string3)"
      ],
      "execution_count": null,
      "outputs": [
        {
          "output_type": "stream",
          "text": [
            "I'm appleI'm banana\n"
          ],
          "name": "stdout"
        }
      ]
    },
    {
      "cell_type": "markdown",
      "metadata": {
        "id": "nPEWrnhzQon7"
      },
      "source": [
        "###String multiply\n",
        "Then how about string multiplication? <br>\n",
        "(※ String Multiplication should `string × integer` )<br>\n",
        "The result is the repetition of strings.<br>\n",
        "Follow the examples."
      ]
    },
    {
      "cell_type": "code",
      "metadata": {
        "colab": {
          "base_uri": "https://localhost:8080/"
        },
        "id": "yWaiX9uFRCNL",
        "outputId": "fed1d18c-0809-4da8-b122-d7f4999c8218"
      },
      "source": [
        "print(\"Python\"*3)"
      ],
      "execution_count": null,
      "outputs": [
        {
          "output_type": "stream",
          "text": [
            "PythonPythonPython\n"
          ],
          "name": "stdout"
        }
      ]
    },
    {
      "cell_type": "code",
      "metadata": {
        "colab": {
          "base_uri": "https://localhost:8080/"
        },
        "id": "ZsrVVXvZRIqh",
        "outputId": "895cb396-bb25-4066-e074-f8972b8a7c64"
      },
      "source": [
        "#Application of python string operator\n",
        "print(\"=\"*50)\n",
        "print(\" \"*20+\"My program\")\n",
        "print(\"=\"*50)"
      ],
      "execution_count": null,
      "outputs": [
        {
          "output_type": "stream",
          "text": [
            "==================================================\n",
            "                    My program\n",
            "==================================================\n"
          ],
          "name": "stdout"
        }
      ]
    },
    {
      "cell_type": "markdown",
      "metadata": {
        "id": "2fG7MhNARnpT"
      },
      "source": [
        "### Length of string\n",
        "You can get length of string with `len()` function. <br>\n",
        "For examples, the string is \"abcd\". Then, length of \"abcd\" is 4 because it consists of 4 letters.<br>\n",
        "```len(\"abcd\")=4```[링크 텍스트](https://)\n"
      ]
    },
    {
      "cell_type": "code",
      "metadata": {
        "colab": {
          "base_uri": "https://localhost:8080/"
        },
        "id": "ei_6onBoSD-m",
        "outputId": "6c17ce1b-4136-4668-f740-91fe802112bd"
      },
      "source": [
        "string1 = \"Write any sentence here\"\n",
        "print(len(string1))"
      ],
      "execution_count": null,
      "outputs": [
        {
          "output_type": "stream",
          "text": [
            "23\n"
          ],
          "name": "stdout"
        }
      ]
    },
    {
      "cell_type": "markdown",
      "metadata": {
        "id": "MR0cyrfbSPmJ"
      },
      "source": [
        "##Indexing and slicing string\n",
        "Every string has their own index number.<br>\n",
        "For example, \"abcd\" string has index 0~3. It means 0th of \"abcd\" is \"a\".<br>\n",
        "Index number is like below image.<br>\n",
        "![image.png](data:image/png;base64,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)<br>\n",
        "you can choose a letter or substring in string by index.<br>\n",
        "※Be careful! Index number is starting with 0.\n",
        "If length of string is `n`, then index number is from `0` to `n-1`.<br>\n",
        "Minus index number means the orders from tail. So index `n-1` is equal to `-1`\n"
      ]
    },
    {
      "cell_type": "code",
      "metadata": {
        "colab": {
          "base_uri": "https://localhost:8080/"
        },
        "id": "7f182J_4g3gu",
        "outputId": "cb373499-762d-4f72-8ad0-6a587da4322f"
      },
      "source": [
        "s = \"I love python\"\n",
        "print(len(s)) #length of s\n",
        "print(s[0]) #0th of s\n",
        "print(s[3]) #3rd of s\n",
        "print(s[len(s)-1]) #last letter of s\n",
        "print(s[-1]) #last letter of s\n",
        "print(s[-2]) #2nd letter from tail of s"
      ],
      "execution_count": null,
      "outputs": [
        {
          "output_type": "stream",
          "text": [
            "13\n",
            "I\n",
            "o\n",
            "n\n",
            "n\n",
            "o\n"
          ],
          "name": "stdout"
        }
      ]
    },
    {
      "cell_type": "markdown",
      "metadata": {
        "id": "9tl0gAxiilne"
      },
      "source": [
        "###Slicing\n",
        "You can choose substring in string by index.<br>\n",
        "Let `s=\"abcdefgh\"`. And I want to pick `\"bcd\"` in `s`.\n",
        "\"b\" is `s[1]` and \"d\" is `s[3]`.<br>\n",
        "So using `:`, you can choose substring from 1st to 3rd letter like `s[1:4]`.<br>\n",
        "<b>`s[1:4]` means 1≤index<4</b><br>\n",
        "`::` means choosing arithmetic progression index letter.\n",
        "`s[::2]=s[0]+s[2]+s[4]+...`<br>\n",
        "Also, it can use minus number. `s[::-1]=s[-1]+s[-2]+...=(reverse of s)`"
      ]
    },
    {
      "cell_type": "code",
      "metadata": {
        "colab": {
          "base_uri": "https://localhost:8080/"
        },
        "id": "KlbcrhCfjWpP",
        "outputId": "ae2b6937-dd25-4bba-c1cb-32283af423e8"
      },
      "source": [
        "s = \"abcdefgh\"\n",
        "print(s[1:4]) #from index 1 to 4\n",
        "print(s[2:]) #from index 2 to tail\n",
        "print(s[:5]) #from head to index 5\n",
        "print(s[:-1]) #from head to (tail-1)\n",
        "print(s[:]) #all string\n",
        "print(s[::2]) #index 0, 2, 4, ... arithmetic progression index\n",
        "print(s[::-1]) #Reverse of s"
      ],
      "execution_count": null,
      "outputs": [
        {
          "output_type": "stream",
          "text": [
            "bcd\n",
            "cdefgh\n",
            "abcde\n",
            "abcdefg\n",
            "abcdefgh\n",
            "aceg\n",
            "hgfedcba\n"
          ],
          "name": "stdout"
        }
      ]
    },
    {
      "cell_type": "markdown",
      "metadata": {
        "id": "1VRkfF3XlYSI"
      },
      "source": [
        "How to replace letters or words in string.<br>\n",
        "If `s=\"abcdefg\"`, I want to replace 'b' to '2'.<br>\n",
        "But, you cannot replace words in string. Because string is <b>immutable</b> data type.<br>\n",
        "However, you can replace it using some trick, *slicing!*"
      ]
    },
    {
      "cell_type": "code",
      "metadata": {
        "colab": {
          "base_uri": "https://localhost:8080/",
          "height": 226
        },
        "id": "RnLjzongmF9D",
        "outputId": "8ae92299-e047-4e95-d20b-35e4b747a81b"
      },
      "source": [
        "#Replace string directly\n",
        "s = \"abcdefg\"\n",
        "s[1] = '2'\n",
        "print(s)\n",
        "#It will get some error"
      ],
      "execution_count": null,
      "outputs": [
        {
          "output_type": "error",
          "ename": "TypeError",
          "evalue": "ignored",
          "traceback": [
            "\u001b[0;31m---------------------------------------------------------------------------\u001b[0m",
            "\u001b[0;31mTypeError\u001b[0m                                 Traceback (most recent call last)",
            "\u001b[0;32m<ipython-input-23-85eb5631beb6>\u001b[0m in \u001b[0;36m<module>\u001b[0;34m()\u001b[0m\n\u001b[1;32m      1\u001b[0m \u001b[0;31m#Replace directly in string\u001b[0m\u001b[0;34m\u001b[0m\u001b[0;34m\u001b[0m\u001b[0;34m\u001b[0m\u001b[0m\n\u001b[1;32m      2\u001b[0m \u001b[0ms\u001b[0m \u001b[0;34m=\u001b[0m \u001b[0;34m\"abcdefg\"\u001b[0m\u001b[0;34m\u001b[0m\u001b[0;34m\u001b[0m\u001b[0m\n\u001b[0;32m----> 3\u001b[0;31m \u001b[0ms\u001b[0m\u001b[0;34m[\u001b[0m\u001b[0;36m1\u001b[0m\u001b[0;34m]\u001b[0m \u001b[0;34m=\u001b[0m \u001b[0;34m'2'\u001b[0m\u001b[0;34m\u001b[0m\u001b[0;34m\u001b[0m\u001b[0m\n\u001b[0m\u001b[1;32m      4\u001b[0m \u001b[0;31m#It will get some error\u001b[0m\u001b[0;34m\u001b[0m\u001b[0;34m\u001b[0m\u001b[0;34m\u001b[0m\u001b[0m\n",
            "\u001b[0;31mTypeError\u001b[0m: 'str' object does not support item assignment"
          ]
        }
      ]
    },
    {
      "cell_type": "code",
      "metadata": {
        "colab": {
          "base_uri": "https://localhost:8080/"
        },
        "id": "3LGBuU15mSNf",
        "outputId": "c2144bf2-cf83-41f3-bf0d-932e31fd94db"
      },
      "source": [
        "#Replace string using some trick\n",
        "s = \"abcdefg\"\n",
        "s2 = s[:1]+'2'+s[2:] #Make new string which is same result as replacing old string\n",
        "print(s2)"
      ],
      "execution_count": null,
      "outputs": [
        {
          "output_type": "stream",
          "text": [
            "a2cdefg\n"
          ],
          "name": "stdout"
        }
      ]
    },
    {
      "cell_type": "markdown",
      "metadata": {
        "id": "9sqLbRmRnAft"
      },
      "source": [
        "###Formatting\n",
        "I want to insert variable data in string. How can I do?<br>\n",
        "The way to insert some variable data in string calls **\"Formatting\"**<br>\n",
        "There are 2 ways of formatting. First using `%`. Second using format function."
      ]
    },
    {
      "cell_type": "code",
      "metadata": {
        "colab": {
          "base_uri": "https://localhost:8080/"
        },
        "id": "Y7TTGMhHndV-",
        "outputId": "d6a1423a-481f-4aee-b355-16fc93dc25bf"
      },
      "source": [
        "age = int(input('Insert your age: '))\n",
        "print(\"My age is %d\"%age)\n",
        "name = input('Insert your name: ')\n",
        "print(\"My name is %s, my age is %d\"%(name,age)) #If you want to insert 2 more variable in string, then using %()"
      ],
      "execution_count": null,
      "outputs": [
        {
          "output_type": "stream",
          "text": [
            "Insert your age: 21\n",
            "My age is 21\n",
            "Insert your name: 하성철\n",
            "My name is 하성철, my age is 21\n"
          ],
          "name": "stdout"
        }
      ]
    },
    {
      "cell_type": "markdown",
      "metadata": {
        "id": "s3omxEf3ozMC"
      },
      "source": [
        "If you use first way of formatting using `%`, you should take card of **format code**.<br>\n",
        "<table>\n",
        "<tr><td>Format Code</td><td>Explanation</td>\n",
        "<tr><td>%s</td><td>String</td>\n",
        "<tr><td>%c</td><td>One Character</td></tr>\n",
        "<tr><td>%d</td><td>Integer</td></tr>\n",
        "<tr><td>%f</td><td>Floating-point</td></tr>\n",
        "<tr><td>%%</td><td>Literal %</td></tr>\n",
        "</table>\n",
        "<br>"
      ]
    },
    {
      "cell_type": "code",
      "metadata": {
        "colab": {
          "base_uri": "https://localhost:8080/"
        },
        "id": "ZOP_5nISoa8Z",
        "outputId": "fa7c652d-0bce-4117-f93c-10f90756f65b"
      },
      "source": [
        "#2nd way of formatting; Using format function in string\n",
        "age = int(input('Insert your age: '))\n",
        "name = input('Insert your name: ')\n",
        "print(\"My name is {0}, and my age is {1}\".format(name,age))\n",
        "print(\"Today is {week}, my name is {0}, and my age is {1}\".format(name,age,week='Tuesday')) #You can use some name in formatting"
      ],
      "execution_count": null,
      "outputs": [
        {
          "output_type": "stream",
          "text": [
            "Insert your age: 21\n",
            "Insert your name: sungcheol Ha\n",
            "My name is sungcheol Ha, and my age is 21\n",
            "Today is Tuesday, my name is sungcheol Ha, and my age is 21\n"
          ],
          "name": "stdout"
        }
      ]
    },
    {
      "cell_type": "markdown",
      "metadata": {
        "id": "hgQ474GXrFI2"
      },
      "source": [
        "##Function of String"
      ]
    },
    {
      "cell_type": "markdown",
      "metadata": {
        "id": "C3Drk3wGrJk2"
      },
      "source": [
        "###count\n",
        "`count()` function is counting number of character in string."
      ]
    },
    {
      "cell_type": "code",
      "metadata": {
        "colab": {
          "base_uri": "https://localhost:8080/"
        },
        "id": "MV6wRIecrWVk",
        "outputId": "d558bb7a-7b38-478f-ae94-1ff8431b7dc8"
      },
      "source": [
        "a = \"abcdbca\"\n",
        "print(a.count('b')) # Return the number of 'b' in string a."
      ],
      "execution_count": null,
      "outputs": [
        {
          "output_type": "stream",
          "text": [
            "2\n"
          ],
          "name": "stdout"
        }
      ]
    },
    {
      "cell_type": "markdown",
      "metadata": {
        "id": "imu4IxhMr_ts"
      },
      "source": [
        "###find, index\n",
        "`find()` function and `index()` function return the index of character.\n",
        "Difference of two function is that `find()` function return -1 and `index()` function make error if if there are no character."
      ]
    },
    {
      "cell_type": "code",
      "metadata": {
        "colab": {
          "base_uri": "https://localhost:8080/"
        },
        "id": "96IA3x89siwf",
        "outputId": "cfbe2277-dc62-4363-dbe8-6822a4d0b39e"
      },
      "source": [
        "a = \"abcdcba\"\n",
        "print(a.find('d')) # Return the index of 'd' in string a\n",
        "print(a.index('d'))\n",
        "print(a.find('b'), a.index('b')) #If there are many same character, then return first one."
      ],
      "execution_count": null,
      "outputs": [
        {
          "output_type": "stream",
          "text": [
            "3\n",
            "3\n",
            "1 1\n"
          ],
          "name": "stdout"
        }
      ]
    },
    {
      "cell_type": "code",
      "metadata": {
        "colab": {
          "base_uri": "https://localhost:8080/"
        },
        "id": "-0zgmCQhs_AC",
        "outputId": "e3292780-48da-41f4-c0f6-7d10251319b1"
      },
      "source": [
        "print(a.find('z'))"
      ],
      "execution_count": null,
      "outputs": [
        {
          "output_type": "stream",
          "text": [
            "-1\n"
          ],
          "name": "stdout"
        }
      ]
    },
    {
      "cell_type": "code",
      "metadata": {
        "colab": {
          "base_uri": "https://localhost:8080/",
          "height": 172
        },
        "id": "nmncR5xOtDZJ",
        "outputId": "23679af3-c3bd-404e-b0e2-883774504359"
      },
      "source": [
        "print(a.index('z'))"
      ],
      "execution_count": null,
      "outputs": [
        {
          "output_type": "error",
          "ename": "ValueError",
          "evalue": "ignored",
          "traceback": [
            "\u001b[0;31m---------------------------------------------------------------------------\u001b[0m",
            "\u001b[0;31mValueError\u001b[0m                                Traceback (most recent call last)",
            "\u001b[0;32m<ipython-input-32-f3f1e5dbead0>\u001b[0m in \u001b[0;36m<module>\u001b[0;34m()\u001b[0m\n\u001b[0;32m----> 1\u001b[0;31m \u001b[0mprint\u001b[0m\u001b[0;34m(\u001b[0m\u001b[0ma\u001b[0m\u001b[0;34m.\u001b[0m\u001b[0mindex\u001b[0m\u001b[0;34m(\u001b[0m\u001b[0;34m'z'\u001b[0m\u001b[0;34m)\u001b[0m\u001b[0;34m)\u001b[0m\u001b[0;34m\u001b[0m\u001b[0;34m\u001b[0m\u001b[0m\n\u001b[0m",
            "\u001b[0;31mValueError\u001b[0m: substring not found"
          ]
        }
      ]
    },
    {
      "cell_type": "markdown",
      "metadata": {
        "id": "pwqbIoHBtNS6"
      },
      "source": [
        "###join\n",
        "`A.join(B)` function return new string wich insert A between B."
      ]
    },
    {
      "cell_type": "code",
      "metadata": {
        "colab": {
          "base_uri": "https://localhost:8080/"
        },
        "id": "d1DXJludte2n",
        "outputId": "6ac01e20-44c1-4a9a-b4e7-bcb3f456801d"
      },
      "source": [
        "print(\"?\".join(\"abcd\"))\n",
        "print(\"<>\".join(\"abcd\"))\n",
        "print(\"*\".join([\"a\",\"r\",\"b\"]))"
      ],
      "execution_count": null,
      "outputs": [
        {
          "output_type": "stream",
          "text": [
            "a?b?c?d\n",
            "a<>b<>c<>d\n",
            "a*r*b\n"
          ],
          "name": "stdout"
        }
      ]
    },
    {
      "cell_type": "markdown",
      "metadata": {
        "id": "DhWzRMqCt7fx"
      },
      "source": [
        "###split\n",
        "`A.split(B)` function return a list which split A based on B.<br>\n",
        "If you don't input on B, `A.split()`, then split A based on some blank(space, tab, enter)."
      ]
    },
    {
      "cell_type": "code",
      "metadata": {
        "colab": {
          "base_uri": "https://localhost:8080/"
        },
        "id": "A0X45TK2hEbl",
        "outputId": "c0ec9bd9-4fc5-4a2d-e3af-ca6155a112ae"
      },
      "source": [
        "a1 = \"I love Python\"\n",
        "a2 = \"a;b;c;d\"\n",
        "print(a1.split())\n",
        "print(a2.split(';'))"
      ],
      "execution_count": null,
      "outputs": [
        {
          "output_type": "stream",
          "text": [
            "['I', 'love', 'Python']\n",
            "['a', 'b', 'c', 'd']\n"
          ],
          "name": "stdout"
        }
      ]
    },
    {
      "cell_type": "markdown",
      "metadata": {
        "id": "BXedaS8AhUmy"
      },
      "source": [
        "###Replace\n",
        "`A.replace(B, C)`is replace all B to C in A."
      ]
    },
    {
      "cell_type": "code",
      "metadata": {
        "colab": {
          "base_uri": "https://localhost:8080/"
        },
        "id": "GbIVcTm3hls_",
        "outputId": "c9ff8912-ffda-4943-fbd3-92018c5c6346"
      },
      "source": [
        "a1 = \"abcdeabcde\"\n",
        "print(a1.replace('a','1'))"
      ],
      "execution_count": null,
      "outputs": [
        {
          "output_type": "stream",
          "text": [
            "1bcde1bcde\n"
          ],
          "name": "stdout"
        }
      ]
    },
    {
      "cell_type": "markdown",
      "metadata": {
        "id": "GFRyx2Exh7hR"
      },
      "source": [
        "###Upper and Lower\n",
        "`A.upper()` is to change lower case to upper case. <br>\n",
        "In opposite, `A.lower()` is to change upper case to lower case."
      ]
    },
    {
      "cell_type": "code",
      "metadata": {
        "colab": {
          "base_uri": "https://localhost:8080/"
        },
        "id": "WTbXyBUxiL_4",
        "outputId": "34cc7a6c-f970-47b2-ca85-21d68c80d4b7"
      },
      "source": [
        "upper_string = \"ABCD\"\n",
        "lower_string = \"abcd\"\n",
        "print(lower_string.upper())\n",
        "print(upper_string.lower())\n",
        "both_string = \"A a B b C c\"\n",
        "print(both_string.upper())\n",
        "print(both_string.lower())"
      ],
      "execution_count": null,
      "outputs": [
        {
          "output_type": "stream",
          "text": [
            "ABCD\n",
            "abcd\n",
            "A A B B C C\n",
            "a a b b c c\n"
          ],
          "name": "stdout"
        }
      ]
    },
    {
      "cell_type": "markdown",
      "metadata": {
        "id": "G3CfIihB3Fjv"
      },
      "source": [
        "#Practice of String Type"
      ]
    },
    {
      "cell_type": "markdown",
      "metadata": {
        "id": "FTaSdvXq3JTx"
      },
      "source": [
        "##Question 1\n",
        "If you input date data, format \"YYYY-MM-DD\", then print year, month, day following below format.<br>\n",
        "\"Year : (year)\"<br>\n",
        "\"Month : (month)\"<br>\n",
        "\"Day : (day)\"<br>\n",
        "Ex)<br>\n",
        "```\n",
        "Input:\n",
        "2021-08-10\n",
        "Output:\n",
        "Year : 2021\n",
        "Month : 08\n",
        "Day : 10\n",
        "```"
      ]
    },
    {
      "cell_type": "code",
      "metadata": {
        "id": "3d7IKzyE4Ui0"
      },
      "source": [
        "'''\n",
        "Write your answer code here\n",
        "```"
      ],
      "execution_count": null,
      "outputs": []
    },
    {
      "cell_type": "markdown",
      "metadata": {
        "id": "N6a-pk4c4X4C"
      },
      "source": [
        "##Question 2\n",
        "Input one string and one character.<br>\n",
        "Then, change the character into upper case in the string. And print it.<br>\n",
        "Ex)<br>\n",
        "```\n",
        "Input:\n",
        "abcdeabcde\n",
        "c\n",
        "Output:\n",
        "abCdeabCde\n",
        "```"
      ]
    },
    {
      "cell_type": "code",
      "metadata": {
        "id": "oU5u1oEn5Af2"
      },
      "source": [
        "'''\n",
        "Write your answer code here\n",
        "'''"
      ],
      "execution_count": null,
      "outputs": []
    },
    {
      "cell_type": "markdown",
      "metadata": {
        "id": "m0jqKR1Hi0Xr"
      },
      "source": [
        "#List Type"
      ]
    },
    {
      "cell_type": "markdown",
      "metadata": {
        "id": "takDqXbyi8Tz"
      },
      "source": [
        "##What is List Type\n",
        "List type is the set of some data.<br>\n",
        "List type is consists with square bracket `[]`.\n",
        "In list, there can be any data type like integer, float, character, string, boolen type, etc.<br>\n",
        "↓List examples↓<br>\n",
        "```\n",
        "a = [1, 2, 3, 4]\n",
        "b = ['a', 'b', 'c']\n",
        "c = [1, 'a', \"string\", True]\n",
        "```\n"
      ]
    },
    {
      "cell_type": "code",
      "metadata": {
        "colab": {
          "base_uri": "https://localhost:8080/"
        },
        "id": "z1N61-yfksK0",
        "outputId": "d4449c91-c845-479c-d6dd-cee6fecb2586"
      },
      "source": [
        "a = [1, 2]\n",
        "b = ['a', 1, \"I love python\", True]\n",
        "c = ['a', 1, [1, 2]]\n",
        "print(a)\n",
        "print(b)\n",
        "print(c)"
      ],
      "execution_count": null,
      "outputs": [
        {
          "output_type": "stream",
          "text": [
            "[1, 2]\n",
            "['a', 1, 'I love python', True]\n",
            "['a', 1, [1, 2]]\n"
          ],
          "name": "stdout"
        }
      ]
    },
    {
      "cell_type": "markdown",
      "metadata": {
        "id": "Fg31xJ6hk7oQ"
      },
      "source": [
        "##Indexing of List\n",
        "List also has index like string.<br>\n",
        "List index start from 0 and finish to (length of list - 1).<br>\n",
        "![image.png](data:image/png;base64,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)<br>\n",
        "List also can get the elements from index.\n",
        "```\n",
        "A = [53, \"c\", \"I love python\", 3.14, [1,2]]\n",
        "print(A[0]) #A[0] = 53\n",
        "print(A[2]) #A[2] = \"I love python\"\n",
        "print(A[-1]) #A[-1] = A[4] = [1,2]\n",
        "print(A[1:3]) #A[1:3] = [\"c\", \"I love python\", 3.14]\n",
        "```\n",
        "And also, length of list can get from function `len()`.<br>\n",
        "For example, `len([1,2,3])=3`."
      ]
    },
    {
      "cell_type": "code",
      "metadata": {
        "colab": {
          "base_uri": "https://localhost:8080/"
        },
        "id": "tzvvFpkgmIAC",
        "outputId": "ebe1bf66-498c-400e-a136-41d93cfb8fd2"
      },
      "source": [
        "A = [53, \"c\", \"I love python\", 3.14, [1,2]]\n",
        "print(A[0])\n",
        "print(A[3])\n",
        "print(A[-1])\n",
        "# print(A[-1][1])\n",
        "print(A[1:3])\n",
        "print(A[::2])"
      ],
      "execution_count": null,
      "outputs": [
        {
          "output_type": "stream",
          "text": [
            "53\n",
            "3.14\n",
            "[1, 2]\n",
            "['c', 'I love python']\n",
            "[53, 'I love python', [1, 2]]\n"
          ],
          "name": "stdout"
        }
      ]
    },
    {
      "cell_type": "markdown",
      "metadata": {
        "id": "Iitj7bJ6nNJZ"
      },
      "source": [
        "And list can change of elements of list.<br>\n",
        "```\n",
        "a = [2, 4, 6]\n",
        "a[2] = 8\n",
        "a → [2, 4, 8]\n",
        "```\n",
        "So, Lis type is called **mutable data type**.\n",
        "Also, list can delete a element using `del` function.\n",
        "```\n",
        "a = [2, 4, 6]\n",
        "del a[1]\n",
        "a → [4, 6]\n",
        "```"
      ]
    },
    {
      "cell_type": "code",
      "metadata": {
        "colab": {
          "base_uri": "https://localhost:8080/"
        },
        "id": "gYFkilsdnmM3",
        "outputId": "85737ddd-3cb8-4114-cc06-cc068ae32eb8"
      },
      "source": [
        "A = [53, \"c\", \"I love python\", 3.14, [1,2]]\n",
        "print(\"Before change elements:\")\n",
        "print(A)\n",
        "A[1] = 'b'\n",
        "print(\"After change elements:\")\n",
        "print(A)\n",
        "print(\"After delete element:\")\n",
        "del A[0]\n",
        "print(A)"
      ],
      "execution_count": null,
      "outputs": [
        {
          "output_type": "stream",
          "text": [
            "Before change elements:\n",
            "[53, 'c', 'I love python', 3.14, [1, 2]]\n",
            "After change elements:\n",
            "[53, 'b', 'I love python', 3.14, [1, 2]]\n",
            "After delete element:\n",
            "['b', 'I love python', 3.14, [1, 2]]\n"
          ],
          "name": "stdout"
        }
      ]
    },
    {
      "cell_type": "markdown",
      "metadata": {
        "id": "UsgO7Ev4obQm"
      },
      "source": [
        "###List operation\n",
        "List also can operate each other like string type.<br>\n"
      ]
    },
    {
      "cell_type": "markdown",
      "metadata": {
        "id": "ql2zJPjhpDN6"
      },
      "source": [
        "###List Plus\n",
        "List can add each other.\n",
        "List plus is concatenation of two list.\n",
        "```\n",
        "a = [1,2]\n",
        "b = [3,4]\n",
        "c = a + b\n",
        "print(c) #[1,2,3,4]\n",
        "```"
      ]
    },
    {
      "cell_type": "code",
      "metadata": {
        "colab": {
          "base_uri": "https://localhost:8080/"
        },
        "id": "ZnJL7AHHqC5F",
        "outputId": "d56fbec4-3435-4e6e-9def-c725ccb97af2"
      },
      "source": [
        "a = [1, 'a', True]\n",
        "b = [2, \"Love\", [1,2]]\n",
        "c = a + b\n",
        "print(a+b)\n",
        "print(c)"
      ],
      "execution_count": null,
      "outputs": [
        {
          "output_type": "stream",
          "text": [
            "[1, 'a', True, 2, 'Love', [1, 2]]\n",
            "[1, 'a', True, 2, 'Love', [1, 2]]\n"
          ],
          "name": "stdout"
        }
      ]
    },
    {
      "cell_type": "markdown",
      "metadata": {
        "id": "39c-tO2EqN9w"
      },
      "source": [
        "###List Multiply\n",
        "List also can multiply. LIst multiply should `(list type) × (integer)`.<br>\n",
        "```\n",
        "a = [1, 2, 3]\n",
        "print(a*2) #[1,2,3,1,2,3]\n",
        "```"
      ]
    },
    {
      "cell_type": "code",
      "metadata": {
        "colab": {
          "base_uri": "https://localhost:8080/"
        },
        "id": "80vwjJ53qgqk",
        "outputId": "16f56ff4-2c77-45a0-a4ed-466e8ea69f49"
      },
      "source": [
        "a = [1,2]\n",
        "print(a*2)\n",
        "print(a*3)\n",
        "print(a*0)"
      ],
      "execution_count": null,
      "outputs": [
        {
          "output_type": "stream",
          "text": [
            "[1, 2, 1, 2]\n",
            "[1, 2, 1, 2, 1, 2]\n",
            "[]\n"
          ],
          "name": "stdout"
        }
      ]
    },
    {
      "cell_type": "markdown",
      "metadata": {
        "id": "H-awS1cjraW-"
      },
      "source": [
        "##Function of List\n"
      ]
    },
    {
      "cell_type": "markdown",
      "metadata": {
        "id": "PIBkoyBJrgQv"
      },
      "source": [
        "###append\n",
        "`A.append(B)` is function that append element B into list A at tail.\n",
        "```\n",
        "a = [1,2]\n",
        "a.append(3)\n",
        "print(a) #[1,2,3]\n",
        "```"
      ]
    },
    {
      "cell_type": "code",
      "metadata": {
        "colab": {
          "base_uri": "https://localhost:8080/"
        },
        "id": "spLNT1UasHqY",
        "outputId": "d3a2281f-b315-40de-f767-beb94e5509fa"
      },
      "source": [
        "a = [1,2]\n",
        "a.append(4)\n",
        "print(a)"
      ],
      "execution_count": null,
      "outputs": [
        {
          "output_type": "stream",
          "text": [
            "[1, 2, 4]\n"
          ],
          "name": "stdout"
        }
      ]
    },
    {
      "cell_type": "markdown",
      "metadata": {
        "id": "iECfrxdtsMZy"
      },
      "source": [
        "###sort\n",
        "`A.sort()` is sorting list A.\n",
        "```\n",
        "a = [2,3,1]\n",
        "a.sort()\n",
        "print(a) #[1,2,3]\n",
        "```"
      ]
    },
    {
      "cell_type": "code",
      "metadata": {
        "colab": {
          "base_uri": "https://localhost:8080/"
        },
        "id": "g06Dj9nnsaAX",
        "outputId": "8f3a0f25-ef56-4fa8-dad9-056ac2e26c46"
      },
      "source": [
        "a = [100, 9, 51, 1]\n",
        "a.sort()\n",
        "print(a)\n",
        "b = ['c', 'z', 'a']\n",
        "b.sort()\n",
        "print(b)\n",
        "c = ['a', 3, [1,2]]\n",
        "#c.sort()\n",
        "#print(c)"
      ],
      "execution_count": null,
      "outputs": [
        {
          "output_type": "stream",
          "text": [
            "[1, 9, 51, 100]\n",
            "['a', 'c', 'z']\n"
          ],
          "name": "stdout"
        }
      ]
    },
    {
      "cell_type": "markdown",
      "metadata": {
        "id": "plKaIPw7s9VN"
      },
      "source": [
        "###reverse\n",
        "`A.reverse()` function is reversing A.\n",
        "```\n",
        "a = [1,3,2]\n",
        "a.reverse()\n",
        "print(a) #[2,3,1]\n",
        "```"
      ]
    },
    {
      "cell_type": "code",
      "metadata": {
        "colab": {
          "base_uri": "https://localhost:8080/"
        },
        "id": "ugu5zn8TtIE5",
        "outputId": "4206cd87-2db2-484a-a325-ab86b7970629"
      },
      "source": [
        "a = [1,2,3]\n",
        "a.reverse()\n",
        "print(a)"
      ],
      "execution_count": null,
      "outputs": [
        {
          "output_type": "stream",
          "text": [
            "[3, 2, 1]\n"
          ],
          "name": "stdout"
        }
      ]
    },
    {
      "cell_type": "markdown",
      "metadata": {
        "id": "bIhQXQQ3taOH"
      },
      "source": [
        "###index\n",
        "`A.index(a)` is find index where element a is in list A.<br>\n",
        "If there are many elements `a`, then return index of first elements `a`.\n",
        "If there are no element `a`, then make ValueError."
      ]
    },
    {
      "cell_type": "code",
      "metadata": {
        "colab": {
          "base_uri": "https://localhost:8080/"
        },
        "id": "7xXgU0kJt8iF",
        "outputId": "198862b1-55aa-4fab-c855-fce4331057da"
      },
      "source": [
        "a = [1, 3, 5, 9, 3]\n",
        "print(a.index(5))\n",
        "print(a.index(3))\n",
        "s = ['b', 'c', 't', 'c']\n",
        "print(s.index('t'))"
      ],
      "execution_count": null,
      "outputs": [
        {
          "output_type": "stream",
          "text": [
            "2\n",
            "1\n",
            "2\n"
          ],
          "name": "stdout"
        }
      ]
    },
    {
      "cell_type": "code",
      "metadata": {
        "colab": {
          "base_uri": "https://localhost:8080/",
          "height": 172
        },
        "id": "UxgRLZUpuOox",
        "outputId": "25143020-8408-45b8-dafa-5e854352f329"
      },
      "source": [
        "print(a.index(10))"
      ],
      "execution_count": null,
      "outputs": [
        {
          "output_type": "error",
          "ename": "ValueError",
          "evalue": "ignored",
          "traceback": [
            "\u001b[0;31m---------------------------------------------------------------------------\u001b[0m",
            "\u001b[0;31mValueError\u001b[0m                                Traceback (most recent call last)",
            "\u001b[0;32m<ipython-input-30-da9b39485663>\u001b[0m in \u001b[0;36m<module>\u001b[0;34m()\u001b[0m\n\u001b[0;32m----> 1\u001b[0;31m \u001b[0mprint\u001b[0m\u001b[0;34m(\u001b[0m\u001b[0ma\u001b[0m\u001b[0;34m.\u001b[0m\u001b[0mindex\u001b[0m\u001b[0;34m(\u001b[0m\u001b[0;36m10\u001b[0m\u001b[0;34m)\u001b[0m\u001b[0;34m)\u001b[0m\u001b[0;34m\u001b[0m\u001b[0;34m\u001b[0m\u001b[0m\n\u001b[0m",
            "\u001b[0;31mValueError\u001b[0m: 10 is not in list"
          ]
        }
      ]
    },
    {
      "cell_type": "markdown",
      "metadata": {
        "id": "DIDUoXTSuURF"
      },
      "source": [
        "###insert\n",
        "`A.insert(b,c)` is inserting element `c` at position(index) b in list A."
      ]
    },
    {
      "cell_type": "code",
      "metadata": {
        "colab": {
          "base_uri": "https://localhost:8080/"
        },
        "id": "g3_QxEQwumrb",
        "outputId": "606dcefd-cee8-436b-873b-f0d09496894e"
      },
      "source": [
        "a = [1,2,3]\n",
        "a.insert(0,4)\n",
        "print(a)\n",
        "a.insert(2,'a')\n",
        "print(a)"
      ],
      "execution_count": null,
      "outputs": [
        {
          "output_type": "stream",
          "text": [
            "[4, 1, 2, 3]\n",
            "[4, 1, 'a', 2, 3]\n"
          ],
          "name": "stdout"
        }
      ]
    },
    {
      "cell_type": "markdown",
      "metadata": {
        "id": "st3nQmaav27D"
      },
      "source": [
        "###remove\n",
        "`A.remove(a)`is removing element `a` in list A.\n",
        "If there are many elements `a`, then remove first one."
      ]
    },
    {
      "cell_type": "code",
      "metadata": {
        "colab": {
          "base_uri": "https://localhost:8080/"
        },
        "id": "Ao8aNhyjv-pu",
        "outputId": "2766584a-ebfa-4906-921e-15379b9e721e"
      },
      "source": [
        "a = [1,2,3,1,2,3]\n",
        "a.remove(1)\n",
        "print(a)"
      ],
      "execution_count": null,
      "outputs": [
        {
          "output_type": "stream",
          "text": [
            "[2, 3, 1, 2, 3]\n"
          ],
          "name": "stdout"
        }
      ]
    },
    {
      "cell_type": "markdown",
      "metadata": {
        "id": "s_JfQvA61dtK"
      },
      "source": [
        "###pop\n",
        "`A.pop(i)` is similar to remove function.<br>\n",
        "`A.pop(i)` is remove `A[i]` (i is index) and return `A[i]`.<br>\n",
        "If you don't input at i, `A.pop()`, then they remove and return tail.<br>\n",
        "`A.pop()` == `A.pop(-1)`"
      ]
    },
    {
      "cell_type": "code",
      "metadata": {
        "colab": {
          "base_uri": "https://localhost:8080/"
        },
        "id": "x0jFvc3J2DUi",
        "outputId": "257a129c-e874-4e65-d039-303965e8da64"
      },
      "source": [
        "a=[1,2,3,4]\n",
        "print(a.pop(0))\n",
        "print(a)\n",
        "#remove vs pop\n",
        "print(a.remove(4))\n",
        "print(a)"
      ],
      "execution_count": null,
      "outputs": [
        {
          "output_type": "stream",
          "text": [
            "1\n",
            "[2, 3, 4]\n",
            "None\n",
            "[2, 3]\n"
          ],
          "name": "stdout"
        }
      ]
    },
    {
      "cell_type": "markdown",
      "metadata": {
        "id": "Uxc-n6rm2RtC"
      },
      "source": [
        "###count\n",
        "`A.count(a)` is counting how many elements `a` in list A.<br>"
      ]
    },
    {
      "cell_type": "code",
      "metadata": {
        "colab": {
          "base_uri": "https://localhost:8080/"
        },
        "id": "IGTn5P7_2e3r",
        "outputId": "932ba2e3-fe7c-4bae-889f-01ce30754ea8"
      },
      "source": [
        "a = [1,2,3,4,3,2,1]\n",
        "print(a.count(1))\n",
        "a.remove(1)\n",
        "print(a.count(1))\n",
        "print(a)"
      ],
      "execution_count": null,
      "outputs": [
        {
          "output_type": "stream",
          "text": [
            "2\n",
            "1\n",
            "[2, 3, 4, 3, 2, 1]\n"
          ],
          "name": "stdout"
        }
      ]
    },
    {
      "cell_type": "markdown",
      "metadata": {
        "id": "f1yneIUi5Zqh"
      },
      "source": [
        "#Practice for List Type"
      ]
    },
    {
      "cell_type": "markdown",
      "metadata": {
        "id": "5QtTI-bf5jXt"
      },
      "source": [
        "##Question 1\n",
        "CSV data file compare each data based on comma(,).<br>\n",
        "Input one line csv data, and change it into list type data.<br>\n",
        "Ex)<br>\n",
        "```\n",
        "Input:\n",
        "\"1,2,3,4,5,6,7\"\n",
        "Output:\n",
        "[1, 2, 3, 4, 5, 6, 7]\n",
        "```"
      ]
    },
    {
      "cell_type": "code",
      "metadata": {
        "id": "-2bjNHzl6Gga"
      },
      "source": [
        "CSV_Data = \"3,1,2,4,6,5,7\"\n",
        "result = []\n",
        "\"\"\"\n",
        "Write your answer code here\n",
        "\"\"\"\n",
        "print(result) #Result is [3, 1, 2, 4, 6, 5, 7] Compare your result."
      ],
      "execution_count": null,
      "outputs": []
    },
    {
      "cell_type": "markdown",
      "metadata": {
        "id": "37q5E2sx6elS"
      },
      "source": [
        "##Question 2\n",
        "There are random list whose elements are all integer.<br>\n",
        "Print minimun, middle, maximum integer in list.<br>\n",
        "Ex)<br>\n",
        "```\n",
        "Input:\n",
        "[4, 2, 3, 5, 7, 8, 6, 1, 9]\n",
        "Output:\n",
        "Min : 1\n",
        "Max : 9\n",
        "Mid : 5\n",
        "```"
      ]
    },
    {
      "cell_type": "code",
      "metadata": {
        "id": "xrlVBpdG7DFY"
      },
      "source": [
        "import random\n",
        "input_list = random.sample(range(100),k=9)\n",
        "\"\"\"\n",
        "Write your code here\n",
        "\"\"\""
      ],
      "execution_count": null,
      "outputs": []
    }
  ]
}